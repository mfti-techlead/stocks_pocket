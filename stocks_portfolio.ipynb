{
 "cells": [
  {
   "cell_type": "code",
   "execution_count": 113,
   "metadata": {},
   "outputs": [],
   "source": [
    "import numpy as np\n",
    "import pandas as pd\n",
    "import os\n",
    "import yfinance as yf\n",
    "import matplotlib.pyplot as plt\n",
    "import matplotlib.mlab as mlab\n",
    "import seaborn\n",
    "from scipy.stats import norm\n",
    "from tabulate import tabulate"
   ]
  },
  {
   "cell_type": "code",
   "execution_count": 21,
   "metadata": {},
   "outputs": [],
   "source": [
    "def get_close_price(ticker, period=\"max\"):\n",
    "    \"\"\"Запрос исторических данных о цене закрытия по тикеру\n",
    "    Варианты написания периода: 1d,5d,1mo,3mo,6mo,1y,2y,5y,10y,ytd,max\"\"\"\n",
    "    ticker_base_info = yf.Ticker(ticker)\n",
    "    hist = ticker_base_info.history(period=\"max\")\n",
    "    close = np.array(hist.iloc[:,3])\n",
    "    return close"
   ]
  },
  {
   "cell_type": "code",
   "execution_count": 28,
   "metadata": {},
   "outputs": [],
   "source": [
    "def calc_rate_of_return(close_prices_array):\n",
    "    \"\"\"Расчет доходности по акциям на основании массива цен закрытия\"\"\"\n",
    "    ror = np.diff(close) / close[:-1]\n",
    "    return ror"
   ]
  },
  {
   "cell_type": "code",
   "execution_count": 37,
   "metadata": {},
   "outputs": [],
   "source": [
    "def calc_acc_rate_of_return(rate_of_return_array):\n",
    "    \"\"\"Расчет накопленной доходности на основании массива значений доходности\"\"\"\n",
    "    aror = (ror + 1.).cumprod() - 1\n",
    "    return aror"
   ]
  },
  {
   "cell_type": "code",
   "execution_count": 41,
   "metadata": {},
   "outputs": [],
   "source": [
    "def calc_compound_annual_growth_rate(acc_rate_of_return_array):\n",
    "    \"\"\"Расчет среднегодовой доходности на основании массива значений накопленной доходности\"\"\"\n",
    "    years_total = acc_rate_of_return_array.size / 12\n",
    "    cagr = (aror[-1] + 1.) ** (1 / years_total) - 1.\n",
    "    return cagr"
   ]
  },
  {
   "cell_type": "code",
   "execution_count": 45,
   "metadata": {},
   "outputs": [],
   "source": [
    "def calc_risk_monthly(rate_of_return_array):\n",
    "    \"\"\"Расчет месячного риска на основании массива значений доходности\"\"\"\n",
    "    risk_monthly = rate_of_return_array.std()\n",
    "    return risk_monthly"
   ]
  },
  {
   "cell_type": "code",
   "execution_count": 46,
   "metadata": {},
   "outputs": [],
   "source": [
    "def calc_risk_yearly(rate_of_return_array):\n",
    "    \"\"\"Расчет годового риска на основании массива значений доходности\"\"\"\n",
    "    ror_mean = (1. + rate_of_return_array).mean()\n",
    "    risk_monthly = calc_risk_monthly(rate_of_return_array)\n",
    "    risk_yearly = np.sqrt((risk_monthly**2 + ror_mean**2)**12 - ror_mean**24)\n",
    "    return risk_yearly"
   ]
  },
  {
   "cell_type": "code",
   "execution_count": 75,
   "metadata": {},
   "outputs": [],
   "source": [
    "def calc_rate_of_return_p(ticker_list, weights):\n",
    "    \"\"\"Расчет доходности по активам портфеля\"\"\"\n",
    "    ror_p = 0.0\n",
    "    for i in range(weights.size):\n",
    "        close = get_close_price(ticker_list[i])\n",
    "        ror = calc_rate_of_return(close) * weights[i]\n",
    "        ror_sum = ror.sum(axis=0)\n",
    "        ror_p = ror_p + ror_sum\n",
    "    return ror_p"
   ]
  },
  {
   "cell_type": "code",
   "execution_count": 121,
   "metadata": {},
   "outputs": [],
   "source": [
    "def plot_var(rate_of_return_array):\n",
    "    \"\"\"Расчет показателя Value at Risk\"\"\"\n",
    "    ror_mean = np.mean(ror)\n",
    "    ror_std = np.std(ror)\n",
    "    pd.Series(ror).hist(bins=40, density=True,histtype='stepfilled',alpha=0.5)\n",
    "    #x = np.linespace(ror_mean - 3 * ror_std, ror_mean + 3 * ror_std, 100)\n",
    "    #plt.plot(x,mlab.normpdf(x, ror_mean, ror_std),\"r\")\n",
    "    var_90 = norm.ppf(1-0.9,ror_mean,ror_std)\n",
    "    var_95 = norm.ppf(1-0.95,ror_mean,ror_std)\n",
    "    var_99 = norm.ppf(1-0.99,ror_mean,ror_std)\n",
    "    print(tabulate([['90%',var_90],['95%',var_95],['99%',var_99]],headers=['Confidence Level', 'Value at Risk']))\n",
    "    plt.show()"
   ]
  },
  {
   "cell_type": "code",
   "execution_count": 127,
   "metadata": {},
   "outputs": [],
   "source": [
    "def calc_var(rate_of_return_array, alpha = 0.95):\n",
    "    sorted_df = pd.Series(rate_of_return_array).sort_values(ascending = True)\n",
    "    VaR = sorted_df.quantile(q=alpha, interpolation = 'higher')\n",
    "    return VaR"
   ]
  },
  {
   "cell_type": "code",
   "execution_count": 132,
   "metadata": {},
   "outputs": [],
   "source": [
    "def calc_esf(rate_of_return_array, alpha = 0.95):\n",
    "    sorted_df = pd.Series(rate_of_return_array).sort_values(ascending = True)\n",
    "    VaR = calc_var(sorted_df, alpha = alpha )\n",
    "    Multipler = 1/(len(sorted_df)*(1-alpha))\n",
    "    FirstTerm = VaR\n",
    "    SecondTerm = (sorted_df.searchsorted(VaR)[0]+1) - len(sorted_df)*alpha \n",
    "    #SecondTerm = 1\n",
    "    ThirdTerm = sum(sorted_df[sorted_df > VaR])\n",
    "    ES = Multipler *(FirstTerm * SecondTerm + ThirdTerm)\n",
    "    return ES"
   ]
  },
  {
   "cell_type": "code",
   "execution_count": null,
   "metadata": {},
   "outputs": [],
   "source": [
    "close = get_close_price('MSFT','2y')\n",
    "ror = calc_rate_of_return(close)"
   ]
  },
  {
   "cell_type": "code",
   "execution_count": 42,
   "metadata": {},
   "outputs": [],
   "source": [
    "aror = calc_acc_rate_of_return(ror)"
   ]
  },
  {
   "cell_type": "code",
   "execution_count": 43,
   "metadata": {},
   "outputs": [],
   "source": [
    "cagr = calc_compound_annual_growth_rate(aror)"
   ]
  },
  {
   "cell_type": "code",
   "execution_count": 47,
   "metadata": {},
   "outputs": [],
   "source": [
    "risk_monthly = calc_risk_monthly(ror)"
   ]
  },
  {
   "cell_type": "code",
   "execution_count": 49,
   "metadata": {},
   "outputs": [],
   "source": [
    "risk_yearly = calc_risk_yearly(ror)"
   ]
  },
  {
   "cell_type": "code",
   "execution_count": 117,
   "metadata": {},
   "outputs": [
    {
     "name": "stdout",
     "output_type": "stream",
     "text": [
      "0.008504886345628293\n"
     ]
    }
   ],
   "source": [
    "print(cagr)"
   ]
  },
  {
   "cell_type": "code",
   "execution_count": 118,
   "metadata": {},
   "outputs": [
    {
     "name": "stdout",
     "output_type": "stream",
     "text": [
      "0.12487801106793742\n"
     ]
    }
   ],
   "source": [
    "print(risk_yearly)"
   ]
  },
  {
   "cell_type": "code",
   "execution_count": 133,
   "metadata": {},
   "outputs": [
    {
     "data": {
      "text/plain": [
       "0.03840814437760305"
      ]
     },
     "execution_count": 133,
     "metadata": {},
     "output_type": "execute_result"
    }
   ],
   "source": [
    "calc_var(ror)"
   ]
  },
  {
   "cell_type": "code",
   "execution_count": null,
   "metadata": {},
   "outputs": [],
   "source": [
    "calc_esf(ror)"
   ]
  },
  {
   "cell_type": "code",
   "execution_count": 122,
   "metadata": {},
   "outputs": [
    {
     "name": "stdout",
     "output_type": "stream",
     "text": [
      "Confidence Level      Value at Risk\n",
      "------------------  ---------------\n",
      "90%                      -0.0286972\n",
      "95%                      -0.037174\n",
      "99%                      -0.0530751\n"
     ]
    },
    {
     "data": {
      "image/png": "[encoded data removed]",
      "text/plain": [
       "<Figure size 432x288 with 1 Axes>"
      ]
     },
     "metadata": {
      "needs_background": "light"
     },
     "output_type": "display_data"
    }
   ],
   "source": [
    "plot_var(ror)"
   ]
  },
  {
   "cell_type": "code",
   "execution_count": 119,
   "metadata": {},
   "outputs": [
    {
     "data": {
      "text/plain": [
       "10.553055331073287"
      ]
     },
     "execution_count": 119,
     "metadata": {},
     "output_type": "execute_result"
    }
   ],
   "source": [
    "weights = np.array([0.5,0.5])\n",
    "ticker_list = ['MSFT','AAPL']\n",
    "calc_rate_of_return_p(ticker_list, weights)"
   ]
  }
 ],
 "metadata": {
  "kernelspec": {
   "display_name": "Python 3",
   "language": "python",
   "name": "python3"
  },
  "language_info": {
   "codemirror_mode": {
    "name": "ipython",
    "version": 3
   },
   "file_extension": ".py",
   "mimetype": "text/x-python",
   "name": "python",
   "nbconvert_exporter": "python",
   "pygments_lexer": "ipython3",
   "version": "3.7.6"
  }
 },
 "nbformat": 4,
 "nbformat_minor": 4
}
